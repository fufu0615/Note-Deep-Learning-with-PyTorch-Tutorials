{
 "cells": [
  {
   "cell_type": "code",
   "execution_count": 1,
   "id": "dbbc692f",
   "metadata": {},
   "outputs": [],
   "source": [
    "import numpy as np\n",
    "\n",
    "# y = wx + b\n",
    "# 计算loss\n",
    "def compute_error_for_line_given_points(b, w, points):\n",
    "    totalError = 0\n",
    "    for i in range(0, len(points)):\n",
    "        x = points[i, 0]\n",
    "        y = points[i, 1]\n",
    "        totalError += (y - (w * x + b)) ** 2\n",
    "    return totalError / float(len(points))"
   ]
  },
  {
   "cell_type": "code",
   "execution_count": 2,
   "id": "d9d62631",
   "metadata": {},
   "outputs": [],
   "source": [
    "# 计算gradient\n",
    "def step_gradient(b_current, w_current, points, learningRate):\n",
    "    b_gradient = 0\n",
    "    w_gradient = 0\n",
    "    N = float(len(points))\n",
    "    for i in range(0, len(points)):\n",
    "        x = points[i, 0]\n",
    "        y = points[i, 1]\n",
    "        # loss = (wx + b - y)^2\n",
    "        b_gradient += -(2/N) * (y - ((w_current * x) + b_current))  # loss对b的偏导（总和求平均）：2*(wx+b-y)*1\n",
    "        w_gradient += -(2/N) * x * (y - ((w_current * x) + b_current))  # loss对w的偏导（总和求平均）：2*(wx+b-y)*x\n",
    "    # 参数更新\n",
    "    new_b = b_current - (learningRate * b_gradient)\n",
    "    new_w = w_current - (learningRate * w_gradient)\n",
    "    return [new_b, new_w]"
   ]
  },
  {
   "cell_type": "code",
   "execution_count": 3,
   "id": "78f08c54",
   "metadata": {},
   "outputs": [],
   "source": [
    "def gradient_descent_runner(points, starting_b, starting_w, learning_rate, num_iterations):\n",
    "    b = starting_b\n",
    "    w = starting_w\n",
    "    for i in range(num_iterations):\n",
    "        b, w = step_gradient(b, w, np.array(points), learning_rate)\n",
    "    return [b, w]"
   ]
  },
  {
   "cell_type": "code",
   "execution_count": 4,
   "id": "6f14f559",
   "metadata": {},
   "outputs": [],
   "source": [
    "def run():\n",
    "    points = np.genfromtxt(\"data.csv\", delimiter=\",\")\n",
    "    learning_rate = 0.0001\n",
    "    # 定义初始的参数\n",
    "    initial_b = 0 # initial y-intercept guess\n",
    "    initial_w = 0 # initial slope guess\n",
    "    num_iterations = 1000\n",
    "    print(\"Starting gradient descent at b = {0}, w = {1}, error = {2}\"\n",
    "          .format(initial_b, initial_w,\n",
    "                  compute_error_for_line_given_points(initial_b, initial_w, points))\n",
    "          )\n",
    "    print(\"Running...\")\n",
    "    [b, w] = gradient_descent_runner(points, initial_b, initial_w, learning_rate, num_iterations)\n",
    "    print(\"After {0} iterations b = {1}, w = {2}, error = {3}\".\n",
    "          format(num_iterations, b, w,\n",
    "                 compute_error_for_line_given_points(b, w, points)))"
   ]
  },
  {
   "cell_type": "code",
   "execution_count": 5,
   "id": "b03bf6f8",
   "metadata": {},
   "outputs": [
    {
     "name": "stdout",
     "output_type": "stream",
     "text": [
      "Starting gradient descent at b = 0, w = 0, error = 5565.107834483211\n",
      "Running...\n",
      "After 1000 iterations b = 0.08893651993741346, w = 1.4777440851894448, error = 112.61481011613473\n"
     ]
    }
   ],
   "source": [
    "if __name__ == '__main__':\n",
    "    run()"
   ]
  }
 ],
 "metadata": {
  "kernelspec": {
   "display_name": "Python 3 (ipykernel)",
   "language": "python",
   "name": "python3"
  },
  "language_info": {
   "codemirror_mode": {
    "name": "ipython",
    "version": 3
   },
   "file_extension": ".py",
   "mimetype": "text/x-python",
   "name": "python",
   "nbconvert_exporter": "python",
   "pygments_lexer": "ipython3",
   "version": "3.9.13"
  }
 },
 "nbformat": 4,
 "nbformat_minor": 5
}
