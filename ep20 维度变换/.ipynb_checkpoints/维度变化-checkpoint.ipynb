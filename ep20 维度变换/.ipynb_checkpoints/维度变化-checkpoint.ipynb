{
 "cells": [
  {
   "cell_type": "code",
   "execution_count": 1,
   "id": "cf63345c",
   "metadata": {},
   "outputs": [],
   "source": [
    "import torch\n",
    "import numpy as np"
   ]
  },
  {
   "cell_type": "code",
   "execution_count": 3,
   "id": "541bee1e",
   "metadata": {},
   "outputs": [
    {
     "data": {
      "text/plain": [
       "torch.Size([4, 1, 28, 28])"
      ]
     },
     "execution_count": 3,
     "metadata": {},
     "output_type": "execute_result"
    }
   ],
   "source": [
    "a= torch.rand(4,1,28,28)\n",
    "\n",
    "a.shape"
   ]
  },
  {
   "cell_type": "code",
   "execution_count": 4,
   "id": "c1fd5d03",
   "metadata": {},
   "outputs": [
    {
     "data": {
      "text/plain": [
       "tensor([[0.5015, 0.3861, 0.5722,  ..., 0.8785, 0.9251, 0.4516],\n",
       "        [0.6859, 0.4997, 0.4770,  ..., 0.2292, 0.1606, 0.1977],\n",
       "        [0.1961, 0.7142, 0.1811,  ..., 0.7607, 0.5930, 0.7350],\n",
       "        [0.0915, 0.4685, 0.4239,  ..., 0.2285, 0.3967, 0.7245]])"
      ]
     },
     "execution_count": 4,
     "metadata": {},
     "output_type": "execute_result"
    }
   ],
   "source": [
    "a.view(4,28*28)"
   ]
  },
  {
   "cell_type": "code",
   "execution_count": 5,
   "id": "0fdf091d",
   "metadata": {},
   "outputs": [
    {
     "data": {
      "text/plain": [
       "torch.Size([4, 784])"
      ]
     },
     "execution_count": 5,
     "metadata": {},
     "output_type": "execute_result"
    }
   ],
   "source": [
    "a.view(4,28*28).shape"
   ]
  },
  {
   "cell_type": "code",
   "execution_count": 6,
   "id": "8cf614c2",
   "metadata": {},
   "outputs": [
    {
     "data": {
      "text/plain": [
       "torch.Size([112, 28])"
      ]
     },
     "execution_count": 6,
     "metadata": {},
     "output_type": "execute_result"
    }
   ],
   "source": [
    "a.view(4*28,28).shape"
   ]
  },
  {
   "cell_type": "code",
   "execution_count": 7,
   "id": "78529d50",
   "metadata": {},
   "outputs": [
    {
     "data": {
      "text/plain": [
       "torch.Size([4, 28, 28])"
      ]
     },
     "execution_count": 7,
     "metadata": {},
     "output_type": "execute_result"
    }
   ],
   "source": [
    "a.view(4*1,28,28).shape"
   ]
  },
  {
   "cell_type": "code",
   "execution_count": 10,
   "id": "088eefae",
   "metadata": {},
   "outputs": [
    {
     "data": {
      "text/plain": [
       "tensor([[[[0.5015],\n",
       "          [0.3861],\n",
       "          [0.5722],\n",
       "          ...,\n",
       "          [0.2581],\n",
       "          [0.5086],\n",
       "          [0.1274]],\n",
       "\n",
       "         [[0.0878],\n",
       "          [0.4831],\n",
       "          [0.8888],\n",
       "          ...,\n",
       "          [0.9982],\n",
       "          [0.9898],\n",
       "          [0.7278]],\n",
       "\n",
       "         [[0.8422],\n",
       "          [0.2397],\n",
       "          [0.5906],\n",
       "          ...,\n",
       "          [0.9445],\n",
       "          [0.7102],\n",
       "          [0.4206]],\n",
       "\n",
       "         ...,\n",
       "\n",
       "         [[0.3495],\n",
       "          [0.7961],\n",
       "          [0.4138],\n",
       "          ...,\n",
       "          [0.8164],\n",
       "          [0.1420],\n",
       "          [0.0496]],\n",
       "\n",
       "         [[0.3824],\n",
       "          [0.6400],\n",
       "          [0.7026],\n",
       "          ...,\n",
       "          [0.4867],\n",
       "          [0.4580],\n",
       "          [0.1849]],\n",
       "\n",
       "         [[0.9594],\n",
       "          [0.5049],\n",
       "          [0.2452],\n",
       "          ...,\n",
       "          [0.8785],\n",
       "          [0.9251],\n",
       "          [0.4516]]],\n",
       "\n",
       "\n",
       "        [[[0.6859],\n",
       "          [0.4997],\n",
       "          [0.4770],\n",
       "          ...,\n",
       "          [0.2567],\n",
       "          [0.0565],\n",
       "          [0.2084]],\n",
       "\n",
       "         [[0.6637],\n",
       "          [0.1096],\n",
       "          [0.6031],\n",
       "          ...,\n",
       "          [0.8873],\n",
       "          [0.7456],\n",
       "          [0.0968]],\n",
       "\n",
       "         [[0.9167],\n",
       "          [0.2304],\n",
       "          [0.3466],\n",
       "          ...,\n",
       "          [0.3168],\n",
       "          [0.6465],\n",
       "          [0.5792]],\n",
       "\n",
       "         ...,\n",
       "\n",
       "         [[0.0150],\n",
       "          [0.6844],\n",
       "          [0.3132],\n",
       "          ...,\n",
       "          [0.4341],\n",
       "          [0.2058],\n",
       "          [0.2250]],\n",
       "\n",
       "         [[0.1604],\n",
       "          [0.1850],\n",
       "          [0.1700],\n",
       "          ...,\n",
       "          [0.8200],\n",
       "          [0.3952],\n",
       "          [0.9755]],\n",
       "\n",
       "         [[0.4326],\n",
       "          [0.2396],\n",
       "          [0.2441],\n",
       "          ...,\n",
       "          [0.2292],\n",
       "          [0.1606],\n",
       "          [0.1977]]],\n",
       "\n",
       "\n",
       "        [[[0.1961],\n",
       "          [0.7142],\n",
       "          [0.1811],\n",
       "          ...,\n",
       "          [0.2314],\n",
       "          [0.5846],\n",
       "          [0.2448]],\n",
       "\n",
       "         [[0.2553],\n",
       "          [0.2300],\n",
       "          [0.5333],\n",
       "          ...,\n",
       "          [0.8630],\n",
       "          [0.6121],\n",
       "          [0.9459]],\n",
       "\n",
       "         [[0.5833],\n",
       "          [0.0193],\n",
       "          [0.4859],\n",
       "          ...,\n",
       "          [0.8144],\n",
       "          [0.6122],\n",
       "          [0.4565]],\n",
       "\n",
       "         ...,\n",
       "\n",
       "         [[0.7487],\n",
       "          [0.2850],\n",
       "          [0.7557],\n",
       "          ...,\n",
       "          [0.8566],\n",
       "          [0.8057],\n",
       "          [0.9079]],\n",
       "\n",
       "         [[0.3547],\n",
       "          [0.4773],\n",
       "          [0.3770],\n",
       "          ...,\n",
       "          [0.3591],\n",
       "          [0.9085],\n",
       "          [0.0358]],\n",
       "\n",
       "         [[0.5521],\n",
       "          [0.2193],\n",
       "          [0.8931],\n",
       "          ...,\n",
       "          [0.7607],\n",
       "          [0.5930],\n",
       "          [0.7350]]],\n",
       "\n",
       "\n",
       "        [[[0.0915],\n",
       "          [0.4685],\n",
       "          [0.4239],\n",
       "          ...,\n",
       "          [0.4125],\n",
       "          [0.0469],\n",
       "          [0.4152]],\n",
       "\n",
       "         [[0.6595],\n",
       "          [0.1876],\n",
       "          [0.0688],\n",
       "          ...,\n",
       "          [0.8051],\n",
       "          [0.5624],\n",
       "          [0.3284]],\n",
       "\n",
       "         [[0.5569],\n",
       "          [0.9630],\n",
       "          [0.2345],\n",
       "          ...,\n",
       "          [0.4315],\n",
       "          [0.3603],\n",
       "          [0.8620]],\n",
       "\n",
       "         ...,\n",
       "\n",
       "         [[0.8974],\n",
       "          [0.1334],\n",
       "          [0.9234],\n",
       "          ...,\n",
       "          [0.3285],\n",
       "          [0.1970],\n",
       "          [0.1837]],\n",
       "\n",
       "         [[0.3030],\n",
       "          [0.0413],\n",
       "          [0.9748],\n",
       "          ...,\n",
       "          [0.1297],\n",
       "          [0.0232],\n",
       "          [0.5039]],\n",
       "\n",
       "         [[0.6661],\n",
       "          [0.3256],\n",
       "          [0.7785],\n",
       "          ...,\n",
       "          [0.2285],\n",
       "          [0.3967],\n",
       "          [0.7245]]]])"
      ]
     },
     "execution_count": 10,
     "metadata": {},
     "output_type": "execute_result"
    }
   ],
   "source": [
    "b=a.view(4,784)\n",
    "\n",
    "b.view(4,28,28,1)"
   ]
  },
  {
   "cell_type": "code",
   "execution_count": 11,
   "id": "c285d2df",
   "metadata": {},
   "outputs": [
    {
     "ename": "RuntimeError",
     "evalue": "shape '[4, 783]' is invalid for input of size 3136",
     "output_type": "error",
     "traceback": [
      "\u001b[1;31m---------------------------------------------------------------------------\u001b[0m",
      "\u001b[1;31mRuntimeError\u001b[0m                              Traceback (most recent call last)",
      "\u001b[1;32m~\\AppData\\Local\\Temp\\ipykernel_19464\\378075016.py\u001b[0m in \u001b[0;36m<module>\u001b[1;34m\u001b[0m\n\u001b[1;32m----> 1\u001b[1;33m \u001b[0ma\u001b[0m\u001b[1;33m.\u001b[0m\u001b[0mview\u001b[0m\u001b[1;33m(\u001b[0m\u001b[1;36m4\u001b[0m\u001b[1;33m,\u001b[0m\u001b[1;36m783\u001b[0m\u001b[1;33m)\u001b[0m\u001b[1;33m\u001b[0m\u001b[1;33m\u001b[0m\u001b[0m\n\u001b[0m",
      "\u001b[1;31mRuntimeError\u001b[0m: shape '[4, 783]' is invalid for input of size 3136"
     ]
    }
   ],
   "source": [
    "a.view(4,783)"
   ]
  },
  {
   "cell_type": "code",
   "execution_count": 12,
   "id": "795de93b",
   "metadata": {},
   "outputs": [
    {
     "data": {
      "text/plain": [
       "torch.Size([4, 1, 28, 28])"
      ]
     },
     "execution_count": 12,
     "metadata": {},
     "output_type": "execute_result"
    }
   ],
   "source": [
    "a.shape"
   ]
  },
  {
   "cell_type": "code",
   "execution_count": 13,
   "id": "aec34227",
   "metadata": {},
   "outputs": [
    {
     "data": {
      "text/plain": [
       "torch.Size([1, 4, 1, 28, 28])"
      ]
     },
     "execution_count": 13,
     "metadata": {},
     "output_type": "execute_result"
    }
   ],
   "source": [
    "a.unsqueeze(0).shape"
   ]
  },
  {
   "cell_type": "code",
   "execution_count": 14,
   "id": "2622a89a",
   "metadata": {},
   "outputs": [
    {
     "data": {
      "text/plain": [
       "torch.Size([4, 1, 28, 28, 1])"
      ]
     },
     "execution_count": 14,
     "metadata": {},
     "output_type": "execute_result"
    }
   ],
   "source": [
    "a.unsqueeze(-1).shape"
   ]
  },
  {
   "cell_type": "code",
   "execution_count": 15,
   "id": "3ffd0557",
   "metadata": {},
   "outputs": [
    {
     "data": {
      "text/plain": [
       "torch.Size([4, 1, 28, 28, 1])"
      ]
     },
     "execution_count": 15,
     "metadata": {},
     "output_type": "execute_result"
    }
   ],
   "source": [
    "a.unsqueeze(4).shape"
   ]
  },
  {
   "cell_type": "code",
   "execution_count": 17,
   "id": "5cb80970",
   "metadata": {},
   "outputs": [
    {
     "ename": "IndexError",
     "evalue": "Dimension out of range (expected to be in range of [-4, 3], but got 5)",
     "output_type": "error",
     "traceback": [
      "\u001b[1;31m---------------------------------------------------------------------------\u001b[0m",
      "\u001b[1;31mIndexError\u001b[0m                                Traceback (most recent call last)",
      "\u001b[1;32m~\\AppData\\Local\\Temp\\ipykernel_19464\\2365872457.py\u001b[0m in \u001b[0;36m<module>\u001b[1;34m\u001b[0m\n\u001b[1;32m----> 1\u001b[1;33m \u001b[0ma\u001b[0m\u001b[1;33m.\u001b[0m\u001b[0msqueeze\u001b[0m\u001b[1;33m(\u001b[0m\u001b[1;36m5\u001b[0m\u001b[1;33m)\u001b[0m\u001b[1;33m.\u001b[0m\u001b[0mshape\u001b[0m\u001b[1;33m\u001b[0m\u001b[1;33m\u001b[0m\u001b[0m\n\u001b[0m",
      "\u001b[1;31mIndexError\u001b[0m: Dimension out of range (expected to be in range of [-4, 3], but got 5)"
     ]
    }
   ],
   "source": [
    "a.squeeze(5).shape"
   ]
  },
  {
   "cell_type": "code",
   "execution_count": 30,
   "id": "0738c81f",
   "metadata": {},
   "outputs": [
    {
     "data": {
      "text/plain": [
       "tensor([[1.2000],\n",
       "        [2.3000]])"
      ]
     },
     "execution_count": 30,
     "metadata": {},
     "output_type": "execute_result"
    }
   ],
   "source": [
    "a=torch.tensor([1.2,2.3])\n",
    "\n",
    "a.unsqueeze(-1)"
   ]
  },
  {
   "cell_type": "code",
   "execution_count": 31,
   "id": "c7fb06eb",
   "metadata": {},
   "outputs": [
    {
     "data": {
      "text/plain": [
       "tensor([[1.2000, 2.3000]])"
      ]
     },
     "execution_count": 31,
     "metadata": {},
     "output_type": "execute_result"
    }
   ],
   "source": [
    "a.unsqueeze(0)"
   ]
  },
  {
   "cell_type": "code",
   "execution_count": 24,
   "id": "15414458",
   "metadata": {},
   "outputs": [
    {
     "data": {
      "text/plain": [
       "torch.Size([1, 32, 1, 1])"
      ]
     },
     "execution_count": 24,
     "metadata": {},
     "output_type": "execute_result"
    }
   ],
   "source": [
    "b=torch.rand(32)\n",
    "f=torch.rand(4,32,14,14)\n",
    "b=b.unsqueeze(1).unsqueeze(2).unsqueeze(0)\n",
    "\n",
    "b.shape"
   ]
  },
  {
   "cell_type": "code",
   "execution_count": 25,
   "id": "599aeb69",
   "metadata": {},
   "outputs": [
    {
     "data": {
      "text/plain": [
       "torch.Size([32])"
      ]
     },
     "execution_count": 25,
     "metadata": {},
     "output_type": "execute_result"
    }
   ],
   "source": [
    "b.squeeze().shape"
   ]
  },
  {
   "cell_type": "code",
   "execution_count": 26,
   "id": "c412e66b",
   "metadata": {},
   "outputs": [
    {
     "data": {
      "text/plain": [
       "torch.Size([1, 32, 1])"
      ]
     },
     "execution_count": 26,
     "metadata": {},
     "output_type": "execute_result"
    }
   ],
   "source": [
    "b.squeeze(-1).shape"
   ]
  },
  {
   "cell_type": "code",
   "execution_count": 28,
   "id": "a5c936e0",
   "metadata": {},
   "outputs": [
    {
     "data": {
      "text/plain": [
       "torch.Size([1, 32, 1, 1])"
      ]
     },
     "execution_count": 28,
     "metadata": {},
     "output_type": "execute_result"
    }
   ],
   "source": [
    "a=torch.rand(4,32,14,14)\n",
    "b.shape"
   ]
  },
  {
   "cell_type": "raw",
   "id": "f8ccbea0",
   "metadata": {},
   "source": []
  }
 ],
 "metadata": {
  "kernelspec": {
   "display_name": "Python 3 (ipykernel)",
   "language": "python",
   "name": "python3"
  },
  "language_info": {
   "codemirror_mode": {
    "name": "ipython",
    "version": 3
   },
   "file_extension": ".py",
   "mimetype": "text/x-python",
   "name": "python",
   "nbconvert_exporter": "python",
   "pygments_lexer": "ipython3",
   "version": "3.9.13"
  }
 },
 "nbformat": 4,
 "nbformat_minor": 5
}
