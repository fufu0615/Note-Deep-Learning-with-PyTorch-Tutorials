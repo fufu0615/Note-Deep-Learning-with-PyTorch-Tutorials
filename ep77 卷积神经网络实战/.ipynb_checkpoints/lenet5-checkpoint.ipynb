{
 "cells": [
  {
   "cell_type": "code",
   "execution_count": 2,
   "id": "c9ba3f14",
   "metadata": {},
   "outputs": [],
   "source": [
    "import torch\n",
    "from torch import nn"
   ]
  },
  {
   "cell_type": "code",
   "execution_count": null,
   "id": "c6e3dfdb",
   "metadata": {},
   "outputs": [],
   "source": [
    "class Lenet5(nn.Moudule):\n",
    "    '''\n",
    "    for cifar10 dataset.\n",
    "    '''\n",
    "        def __init__(self):\n",
    "        super(Lenet5, self).__init__()\n",
    "\n",
    "        self.conv_unit = nn.Sequential(\n",
    "            # x: [b, 3, 32, 32] => [b, 16, ]\n",
    "            nn.Conv2d(3, 16, kernel_size=5, stride=1, padding=0),\n",
    "            nn.MaxPool2d(kernel_size=2, stride=2, padding=0),\n",
    "            #\n",
    "            nn.Conv2d(16, 32, kernel_size=5, stride=1, padding=0),\n",
    "            nn.MaxPool2d(kernel_size=2, stride=2, padding=0),\n",
    "            #\n",
    "        )\n",
    "        \n",
    "        \n",
    "        self.fc_unit = nn.Sequential()"
   ]
  }
 ],
 "metadata": {
  "kernelspec": {
   "display_name": "Python 3 (ipykernel)",
   "language": "python",
   "name": "python3"
  },
  "language_info": {
   "codemirror_mode": {
    "name": "ipython",
    "version": 3
   },
   "file_extension": ".py",
   "mimetype": "text/x-python",
   "name": "python",
   "nbconvert_exporter": "python",
   "pygments_lexer": "ipython3",
   "version": "3.9.13"
  }
 },
 "nbformat": 4,
 "nbformat_minor": 5
}
