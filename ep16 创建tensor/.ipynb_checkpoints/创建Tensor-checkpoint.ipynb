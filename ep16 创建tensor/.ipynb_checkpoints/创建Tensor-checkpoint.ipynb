{
 "cells": [
  {
   "cell_type": "code",
   "execution_count": 1,
   "id": "d6452c24",
   "metadata": {},
   "outputs": [],
   "source": [
    "import numpy as np\n",
    "import torch"
   ]
  },
  {
   "cell_type": "code",
   "execution_count": 2,
   "id": "9a70fa9b",
   "metadata": {},
   "outputs": [],
   "source": [
    "a=np.array([2,2.3])"
   ]
  },
  {
   "cell_type": "code",
   "execution_count": 3,
   "id": "035d1f3e",
   "metadata": {},
   "outputs": [
    {
     "data": {
      "text/plain": [
       "tensor([2.0000, 2.3000], dtype=torch.float64)"
      ]
     },
     "execution_count": 3,
     "metadata": {},
     "output_type": "execute_result"
    }
   ],
   "source": [
    "# 创建Tensor\n",
    "\n",
    "# 1.直接从numpy引入\n",
    "torch.from_numpy(a)"
   ]
  },
  {
   "cell_type": "code",
   "execution_count": 4,
   "id": "2d0ee419",
   "metadata": {},
   "outputs": [],
   "source": [
    "a=np.ones([2,3])"
   ]
  },
  {
   "cell_type": "code",
   "execution_count": 5,
   "id": "a7221abe",
   "metadata": {},
   "outputs": [
    {
     "data": {
      "text/plain": [
       "tensor([[1., 1., 1.],\n",
       "        [1., 1., 1.]], dtype=torch.float64)"
      ]
     },
     "execution_count": 5,
     "metadata": {},
     "output_type": "execute_result"
    }
   ],
   "source": [
    "torch.from_numpy(a)"
   ]
  },
  {
   "cell_type": "code",
   "execution_count": 6,
   "id": "927a141e",
   "metadata": {},
   "outputs": [
    {
     "data": {
      "text/plain": [
       "tensor([2.0000, 3.2000])"
      ]
     },
     "execution_count": 6,
     "metadata": {},
     "output_type": "execute_result"
    }
   ],
   "source": [
    "# 2.从list中引入\n",
    "torch.tensor([2., 3.2])\n",
    "# .tensor()与.Tensor()的区别\n",
    "#  .tensor()接收现成的数据，.Tensor()接收shape，\n",
    "# 而.Tensor([])则也能接收现成数据（尽量避免这样使用）。"
   ]
  },
  {
   "cell_type": "code",
   "execution_count": 7,
   "id": "4cb3d199",
   "metadata": {},
   "outputs": [
    {
     "data": {
      "text/plain": [
       "tensor([[ 2.0000,  3.2000],\n",
       "        [ 1.0000, 22.3000]])"
      ]
     },
     "execution_count": 7,
     "metadata": {},
     "output_type": "execute_result"
    }
   ],
   "source": [
    "torch.tensor([[2., 3.2], [1., 22.3]])"
   ]
  },
  {
   "cell_type": "code",
   "execution_count": 8,
   "id": "f98eed99",
   "metadata": {},
   "outputs": [
    {
     "data": {
      "text/plain": [
       "tensor([8.4490e-39])"
      ]
     },
     "execution_count": 8,
     "metadata": {},
     "output_type": "execute_result"
    }
   ],
   "source": [
    "# 定义未初始化的数据\n",
    "\n",
    "torch.empty(1)"
   ]
  },
  {
   "cell_type": "code",
   "execution_count": 9,
   "id": "23a1afc1",
   "metadata": {},
   "outputs": [
    {
     "data": {
      "text/plain": [
       "tensor([[3.3241e+21, 1.7661e-04, 2.7177e+23],\n",
       "        [6.7577e-07, 4.2700e-08, 2.1749e+23]])"
      ]
     },
     "execution_count": 9,
     "metadata": {},
     "output_type": "execute_result"
    }
   ],
   "source": [
    "torch.Tensor(2,3)\n",
    "# 未初始化的数据过于随机,不建议未覆盖直接使用"
   ]
  },
  {
   "cell_type": "code",
   "execution_count": 10,
   "id": "42f0310c",
   "metadata": {},
   "outputs": [
    {
     "data": {
      "text/plain": [
       "tensor([[48, 58, 53],\n",
       "        [48, 58, 51]], dtype=torch.int32)"
      ]
     },
     "execution_count": 10,
     "metadata": {},
     "output_type": "execute_result"
    }
   ],
   "source": [
    "torch.IntTensor(2,3)"
   ]
  },
  {
   "cell_type": "code",
   "execution_count": 11,
   "id": "5d0e880f",
   "metadata": {},
   "outputs": [
    {
     "data": {
      "text/plain": [
       "tensor([[2.0317e+20, 1.0528e-11, 1.0524e+21],\n",
       "        [2.7150e-06, 1.0779e-08, 6.3008e-10]])"
      ]
     },
     "execution_count": 11,
     "metadata": {},
     "output_type": "execute_result"
    }
   ],
   "source": [
    "torch.FloatTensor(2,3)"
   ]
  },
  {
   "cell_type": "code",
   "execution_count": 12,
   "id": "896606cc",
   "metadata": {},
   "outputs": [
    {
     "data": {
      "text/plain": [
       "'torch.FloatTensor'"
      ]
     },
     "execution_count": 12,
     "metadata": {},
     "output_type": "execute_result"
    }
   ],
   "source": [
    "# 使用.tensor()直接创建的tensor为默认类型FloatTensor\n",
    "torch.tensor([1.2, 3]).type()"
   ]
  },
  {
   "cell_type": "code",
   "execution_count": 13,
   "id": "2c901705",
   "metadata": {},
   "outputs": [],
   "source": [
    "torch.set_default_tensor_type(torch.DoubleTensor)"
   ]
  },
  {
   "cell_type": "code",
   "execution_count": 14,
   "id": "059a1da5",
   "metadata": {},
   "outputs": [
    {
     "data": {
      "text/plain": [
       "'torch.DoubleTensor'"
      ]
     },
     "execution_count": 14,
     "metadata": {},
     "output_type": "execute_result"
    }
   ],
   "source": [
    "torch.tensor([1.2, 3]).type()"
   ]
  },
  {
   "cell_type": "code",
   "execution_count": 15,
   "id": "57981b44",
   "metadata": {},
   "outputs": [
    {
     "data": {
      "text/plain": [
       "tensor([[0.4638, 0.8737, 0.1398],\n",
       "        [0.7416, 0.9217, 0.8216],\n",
       "        [0.7872, 0.2363, 0.9525]])"
      ]
     },
     "execution_count": 15,
     "metadata": {},
     "output_type": "execute_result"
    }
   ],
   "source": [
    "# 随机初始化\n",
    "\n",
    "# 1.使用rand()随机产生从[0,1)之间均匀采样的数\n",
    "torch.rand(3,3)"
   ]
  },
  {
   "cell_type": "code",
   "execution_count": 16,
   "id": "43e39608",
   "metadata": {},
   "outputs": [],
   "source": [
    "a=torch.rand(3,3)"
   ]
  },
  {
   "cell_type": "code",
   "execution_count": 17,
   "id": "beeffbf8",
   "metadata": {},
   "outputs": [
    {
     "data": {
      "text/plain": [
       "tensor([[0.3404, 0.0704, 0.6983],\n",
       "        [0.0421, 0.6318, 0.9572],\n",
       "        [0.3838, 0.1888, 0.7294]])"
      ]
     },
     "execution_count": 17,
     "metadata": {},
     "output_type": "execute_result"
    }
   ],
   "source": [
    "torch.rand_like(a)  # 依照a的shape用rand()生成tensor"
   ]
  },
  {
   "cell_type": "code",
   "execution_count": 18,
   "id": "cc7c032b",
   "metadata": {},
   "outputs": [
    {
     "data": {
      "text/plain": [
       "tensor([[9, 7, 2],\n",
       "        [6, 5, 4],\n",
       "        [5, 4, 2]])"
      ]
     },
     "execution_count": 18,
     "metadata": {},
     "output_type": "execute_result"
    }
   ],
   "source": [
    "torch.randint(1,10,[3,3])  # randint(min,max,shape)"
   ]
  },
  {
   "cell_type": "code",
   "execution_count": 19,
   "id": "66543c80",
   "metadata": {},
   "outputs": [
    {
     "data": {
      "text/plain": [
       "tensor([[ 2.5209, -1.0388,  1.3355],\n",
       "        [ 0.5001, -0.5325,  0.6618],\n",
       "        [-0.0260, -1.2217, -0.3268]])"
      ]
     },
     "execution_count": 19,
     "metadata": {},
     "output_type": "execute_result"
    }
   ],
   "source": [
    "# 2.使用randn()产生随机从均值为0,方差为1的正态分布之间均匀采样的数\n",
    "torch.randn(3,3)"
   ]
  },
  {
   "cell_type": "code",
   "execution_count": 20,
   "id": "3de9b97f",
   "metadata": {},
   "outputs": [
    {
     "data": {
      "text/plain": [
       "tensor([ 1.6792,  1.8682,  1.0909, -0.2882,  0.0239,  0.5020, -0.7913, -0.0848,\n",
       "        -0.0554,  0.0363])"
      ]
     },
     "execution_count": 20,
     "metadata": {},
     "output_type": "execute_result"
    }
   ],
   "source": [
    "torch.normal(mean=torch.full([10],0.), std=torch.arange(1, 0, -0.1))\n",
    "# 均值means是一个张量，包含每个输出元素相关的正态分布的均值。\n",
    "# std是一个张量，包含每个输出元素相关的正态分布的标准差。"
   ]
  },
  {
   "cell_type": "code",
   "execution_count": 21,
   "id": "2a854582",
   "metadata": {},
   "outputs": [
    {
     "data": {
      "text/plain": [
       "tensor([[7, 7, 7],\n",
       "        [7, 7, 7]])"
      ]
     },
     "execution_count": 21,
     "metadata": {},
     "output_type": "execute_result"
    }
   ],
   "source": [
    "torch.full([2,3],7)  # 以元素7填充shape为[2,3]的tensor"
   ]
  },
  {
   "cell_type": "code",
   "execution_count": 22,
   "id": "17e74f3a",
   "metadata": {},
   "outputs": [
    {
     "data": {
      "text/plain": [
       "tensor(7)"
      ]
     },
     "execution_count": 22,
     "metadata": {},
     "output_type": "execute_result"
    }
   ],
   "source": [
    "torch.full([],7)  # 以元素7填充dim=0的标量"
   ]
  },
  {
   "cell_type": "code",
   "execution_count": 23,
   "id": "e6fb127c",
   "metadata": {},
   "outputs": [
    {
     "data": {
      "text/plain": [
       "tensor([7])"
      ]
     },
     "execution_count": 23,
     "metadata": {},
     "output_type": "execute_result"
    }
   ],
   "source": [
    "torch.full([1],7)  # 以元素7来填充shape为[1]的向量"
   ]
  },
  {
   "cell_type": "code",
   "execution_count": 24,
   "id": "9a346132",
   "metadata": {},
   "outputs": [
    {
     "data": {
      "text/plain": [
       "tensor([0, 1, 2, 3, 4, 5, 6, 7, 8, 9])"
      ]
     },
     "execution_count": 24,
     "metadata": {},
     "output_type": "execute_result"
    }
   ],
   "source": [
    "torch.arange(0,10)  # 生成[0,10)公差为1(默认)的等差数列"
   ]
  },
  {
   "cell_type": "code",
   "execution_count": 25,
   "id": "1a7f5619",
   "metadata": {},
   "outputs": [
    {
     "data": {
      "text/plain": [
       "tensor([0, 2, 4, 6, 8])"
      ]
     },
     "execution_count": 25,
     "metadata": {},
     "output_type": "execute_result"
    }
   ],
   "source": [
    "torch.arange(0,10,2)  # 生成[0,10)公差为2的等差数列"
   ]
  },
  {
   "cell_type": "code",
   "execution_count": 26,
   "id": "7593c47e",
   "metadata": {},
   "outputs": [
    {
     "name": "stderr",
     "output_type": "stream",
     "text": [
      "C:\\Users\\fufu\\AppData\\Local\\Temp\\ipykernel_18180\\1966223853.py:1: UserWarning: torch.range is deprecated and will be removed in a future release because its behavior is inconsistent with Python's range builtin. Instead, use torch.arange, which produces values in [start, end).\n",
      "  torch.range(0,10)  # 一般不使用range()而使用arange()\n"
     ]
    },
    {
     "data": {
      "text/plain": [
       "'\\ntorch.range()和torch.arange()的区别:(在pytorch中 ，torch.arange更官方)\\n1.torch.arange()左闭右开，而torch.range()是左右都闭\\n2.torch.arange()可以单独写一个数值，表示0开始到该数结束的张量，而torch.range()不行\\n'"
      ]
     },
     "execution_count": 26,
     "metadata": {},
     "output_type": "execute_result"
    }
   ],
   "source": [
    "torch.range(0,10)  # 一般不使用range()而使用arange()\n",
    "'''\n",
    "torch.range()和torch.arange()的区别:(在pytorch中 ，torch.arange更官方)\n",
    "1.torch.arange()左闭右开，而torch.range()是左右都闭\n",
    "2.torch.arange()可以单独写一个数值，表示0开始到该数结束的张量，而torch.range()不行\n",
    "'''"
   ]
  },
  {
   "cell_type": "code",
   "execution_count": 27,
   "id": "c6ca7e5e",
   "metadata": {},
   "outputs": [
    {
     "data": {
      "text/plain": [
       "tensor([ 0.0000,  3.3333,  6.6667, 10.0000])"
      ]
     },
     "execution_count": 27,
     "metadata": {},
     "output_type": "execute_result"
    }
   ],
   "source": [
    "torch.linspace(0,10, steps=4)  # 生成[0,10]范围内元素数量为4的等差数列"
   ]
  },
  {
   "cell_type": "code",
   "execution_count": 28,
   "id": "bf695847",
   "metadata": {},
   "outputs": [
    {
     "data": {
      "text/plain": [
       "tensor([ 0.0000,  1.1111,  2.2222,  3.3333,  4.4444,  5.5556,  6.6667,  7.7778,\n",
       "         8.8889, 10.0000])"
      ]
     },
     "execution_count": 28,
     "metadata": {},
     "output_type": "execute_result"
    }
   ],
   "source": [
    "torch.linspace(0,10, steps=10)"
   ]
  },
  {
   "cell_type": "code",
   "execution_count": 29,
   "id": "d297ceef",
   "metadata": {},
   "outputs": [
    {
     "data": {
      "text/plain": [
       "tensor([ 0.,  1.,  2.,  3.,  4.,  5.,  6.,  7.,  8.,  9., 10.])"
      ]
     },
     "execution_count": 29,
     "metadata": {},
     "output_type": "execute_result"
    }
   ],
   "source": [
    "torch.linspace(0,10, steps=11)"
   ]
  },
  {
   "cell_type": "code",
   "execution_count": 30,
   "id": "9b57f5bd",
   "metadata": {},
   "outputs": [
    {
     "data": {
      "text/plain": [
       "tensor([1.0000, 0.7743, 0.5995, 0.4642, 0.3594, 0.2783, 0.2154, 0.1668, 0.1292,\n",
       "        0.1000])"
      ]
     },
     "execution_count": 30,
     "metadata": {},
     "output_type": "execute_result"
    }
   ],
   "source": [
    "torch.logspace(0,-1, steps=10)  # 生成以[-1,0]范围内元素数量为10的等差数列为真数,10(默认)为底数的数列"
   ]
  },
  {
   "cell_type": "code",
   "execution_count": 31,
   "id": "c463c4d6",
   "metadata": {},
   "outputs": [
    {
     "data": {
      "text/plain": [
       "tensor([ 1.0000,  1.2915,  1.6681,  2.1544,  2.7826,  3.5938,  4.6416,  5.9948,\n",
       "         7.7426, 10.0000])"
      ]
     },
     "execution_count": 31,
     "metadata": {},
     "output_type": "execute_result"
    }
   ],
   "source": [
    "torch.logspace(0,1, steps=10)"
   ]
  },
  {
   "cell_type": "code",
   "execution_count": 32,
   "id": "da2e81ae",
   "metadata": {},
   "outputs": [
    {
     "data": {
      "text/plain": [
       "tensor([[1., 1., 1.],\n",
       "        [1., 1., 1.],\n",
       "        [1., 1., 1.]])"
      ]
     },
     "execution_count": 32,
     "metadata": {},
     "output_type": "execute_result"
    }
   ],
   "source": [
    "torch.ones(3,3)  # 生成size为(3,3)元素全为1的tensor"
   ]
  },
  {
   "cell_type": "code",
   "execution_count": 33,
   "id": "0ff6a163",
   "metadata": {},
   "outputs": [
    {
     "data": {
      "text/plain": [
       "tensor([[0., 0., 0.],\n",
       "        [0., 0., 0.],\n",
       "        [0., 0., 0.]])"
      ]
     },
     "execution_count": 33,
     "metadata": {},
     "output_type": "execute_result"
    }
   ],
   "source": [
    "torch.zeros(3,3)  # 生成size为(3,3)元素全为0的tensor"
   ]
  },
  {
   "cell_type": "code",
   "execution_count": 34,
   "id": "0ca0c4da",
   "metadata": {},
   "outputs": [
    {
     "data": {
      "text/plain": [
       "tensor([[1., 0., 0., 0.],\n",
       "        [0., 1., 0., 0.],\n",
       "        [0., 0., 1., 0.]])"
      ]
     },
     "execution_count": 34,
     "metadata": {},
     "output_type": "execute_result"
    }
   ],
   "source": [
    "torch.eye(3,4)  # 生成(3,4)对角矩阵"
   ]
  },
  {
   "cell_type": "code",
   "execution_count": 35,
   "id": "c5ab920e",
   "metadata": {},
   "outputs": [
    {
     "data": {
      "text/plain": [
       "tensor([[1., 0., 0.],\n",
       "        [0., 1., 0.],\n",
       "        [0., 0., 1.]])"
      ]
     },
     "execution_count": 35,
     "metadata": {},
     "output_type": "execute_result"
    }
   ],
   "source": [
    "torch.eye(3)  # 生成(3,3)的对角矩阵"
   ]
  },
  {
   "cell_type": "code",
   "execution_count": 36,
   "id": "412370b9",
   "metadata": {},
   "outputs": [],
   "source": [
    "a=torch.zeros(3,3)"
   ]
  },
  {
   "cell_type": "code",
   "execution_count": 37,
   "id": "f69aceea",
   "metadata": {},
   "outputs": [
    {
     "data": {
      "text/plain": [
       "tensor([[1., 1., 1.],\n",
       "        [1., 1., 1.],\n",
       "        [1., 1., 1.]])"
      ]
     },
     "execution_count": 37,
     "metadata": {},
     "output_type": "execute_result"
    }
   ],
   "source": [
    "torch.ones_like(a)"
   ]
  },
  {
   "cell_type": "code",
   "execution_count": 38,
   "id": "1c43a83e",
   "metadata": {},
   "outputs": [
    {
     "data": {
      "text/plain": [
       "tensor([9, 6, 0, 3, 8, 7, 4, 2, 1, 5])"
      ]
     },
     "execution_count": 38,
     "metadata": {},
     "output_type": "execute_result"
    }
   ],
   "source": [
    "torch.randperm(10)  # 生成[0,10)的向量并打乱元素顺序"
   ]
  },
  {
   "cell_type": "code",
   "execution_count": 39,
   "id": "979e02d5",
   "metadata": {
    "scrolled": true
   },
   "outputs": [
    {
     "data": {
      "text/plain": [
       "(tensor([[0.3106, 0.0081, 0.1098],\n",
       "         [0.5407, 0.4745, 0.1687]]),\n",
       " tensor([[0.0416, 0.1859, 0.2276],\n",
       "         [0.6827, 0.7462, 0.2600],\n",
       "         [0.7421, 0.5996, 0.3624],\n",
       "         [0.4677, 0.2343, 0.7686]]),\n",
       " tensor([0, 2, 1]))"
      ]
     },
     "execution_count": 39,
     "metadata": {},
     "output_type": "execute_result"
    }
   ],
   "source": [
    "# 在某一维度上打乱元素顺序\n",
    "\n",
    "# 例如:要在第1维上打乱\n",
    "a=torch.rand(2,3)\n",
    "b=torch.rand(4,3)\n",
    "# 生成一个与第1维元素个数相同的种子tensor\n",
    "idx=torch.randperm(3)\n",
    "a,b,idx"
   ]
  },
  {
   "cell_type": "code",
   "execution_count": 40,
   "id": "c2d0b503",
   "metadata": {},
   "outputs": [
    {
     "data": {
      "text/plain": [
       "tensor([[0.3106, 0.1098, 0.0081],\n",
       "        [0.5407, 0.1687, 0.4745]])"
      ]
     },
     "execution_count": 40,
     "metadata": {},
     "output_type": "execute_result"
    }
   ],
   "source": [
    "# 依照种子tensor来打乱a,b的第1维\n",
    "a[:,idx]"
   ]
  },
  {
   "cell_type": "code",
   "execution_count": 41,
   "id": "fafc3b80",
   "metadata": {},
   "outputs": [
    {
     "data": {
      "text/plain": [
       "tensor([[0.0416, 0.2276, 0.1859],\n",
       "        [0.6827, 0.2600, 0.7462],\n",
       "        [0.7421, 0.3624, 0.5996],\n",
       "        [0.4677, 0.7686, 0.2343]])"
      ]
     },
     "execution_count": 41,
     "metadata": {},
     "output_type": "execute_result"
    }
   ],
   "source": [
    "b[:,idx]"
   ]
  },
  {
   "cell_type": "code",
   "execution_count": 42,
   "id": "0dbbd21a",
   "metadata": {},
   "outputs": [
    {
     "data": {
      "text/plain": [
       "(tensor([[0.3106, 0.0081, 0.1098],\n",
       "         [0.5407, 0.4745, 0.1687]]),\n",
       " tensor([[0.0416, 0.1859, 0.2276],\n",
       "         [0.6827, 0.7462, 0.2600],\n",
       "         [0.7421, 0.5996, 0.3624],\n",
       "         [0.4677, 0.2343, 0.7686]]))"
      ]
     },
     "execution_count": 42,
     "metadata": {},
     "output_type": "execute_result"
    }
   ],
   "source": [
    "a,b"
   ]
  }
 ],
 "metadata": {
  "kernelspec": {
   "display_name": "Python 3 (ipykernel)",
   "language": "python",
   "name": "python3"
  },
  "language_info": {
   "codemirror_mode": {
    "name": "ipython",
    "version": 3
   },
   "file_extension": ".py",
   "mimetype": "text/x-python",
   "name": "python",
   "nbconvert_exporter": "python",
   "pygments_lexer": "ipython3",
   "version": "3.9.13"
  }
 },
 "nbformat": 4,
 "nbformat_minor": 5
}
