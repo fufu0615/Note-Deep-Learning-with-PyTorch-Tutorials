{
 "cells": [
  {
   "cell_type": "code",
   "execution_count": 1,
   "id": "3cd87b2d",
   "metadata": {},
   "outputs": [],
   "source": [
    "import numpy as np\n",
    "import torch"
   ]
  },
  {
   "cell_type": "code",
   "execution_count": 2,
   "id": "46c1d9e6",
   "metadata": {},
   "outputs": [],
   "source": [
    "# randn() 生成标准正态分布的伪随机数（均值为0，方差为1）\n",
    "a = torch.randn(2, 3)"
   ]
  },
  {
   "cell_type": "code",
   "execution_count": 3,
   "id": "33c3890c",
   "metadata": {},
   "outputs": [
    {
     "data": {
      "text/plain": [
       "'torch.FloatTensor'"
      ]
     },
     "execution_count": 3,
     "metadata": {},
     "output_type": "execute_result"
    }
   ],
   "source": [
    "a.type()"
   ]
  },
  {
   "cell_type": "code",
   "execution_count": 4,
   "id": "28a78300",
   "metadata": {},
   "outputs": [
    {
     "data": {
      "text/plain": [
       "torch.Tensor"
      ]
     },
     "execution_count": 4,
     "metadata": {},
     "output_type": "execute_result"
    }
   ],
   "source": [
    "type(a)"
   ]
  },
  {
   "cell_type": "code",
   "execution_count": 5,
   "id": "b6f1af87",
   "metadata": {},
   "outputs": [
    {
     "data": {
      "text/plain": [
       "True"
      ]
     },
     "execution_count": 5,
     "metadata": {},
     "output_type": "execute_result"
    }
   ],
   "source": [
    "isinstance(a,torch.FloatTensor)"
   ]
  },
  {
   "cell_type": "code",
   "execution_count": 6,
   "id": "b985f5ee",
   "metadata": {},
   "outputs": [
    {
     "data": {
      "text/plain": [
       "False"
      ]
     },
     "execution_count": 6,
     "metadata": {},
     "output_type": "execute_result"
    }
   ],
   "source": [
    "isinstance(a, torch.cuda.DoubleTensor)"
   ]
  },
  {
   "cell_type": "code",
   "execution_count": 7,
   "id": "8869d355",
   "metadata": {},
   "outputs": [
    {
     "data": {
      "text/plain": [
       "tensor(1.)"
      ]
     },
     "execution_count": 7,
     "metadata": {},
     "output_type": "execute_result"
    }
   ],
   "source": [
    "# 创建dim=0的tensor\n",
    "torch.tensor(1.)"
   ]
  },
  {
   "cell_type": "code",
   "execution_count": 8,
   "id": "77c9b4d0",
   "metadata": {},
   "outputs": [
    {
     "data": {
      "text/plain": [
       "tensor(1.3000)"
      ]
     },
     "execution_count": 8,
     "metadata": {},
     "output_type": "execute_result"
    }
   ],
   "source": [
    "torch.tensor(1.3)"
   ]
  },
  {
   "cell_type": "code",
   "execution_count": 9,
   "id": "15fbaee9",
   "metadata": {},
   "outputs": [],
   "source": [
    "a=torch.tensor(2.2)"
   ]
  },
  {
   "cell_type": "code",
   "execution_count": 10,
   "id": "5035f0e8",
   "metadata": {},
   "outputs": [
    {
     "data": {
      "text/plain": [
       "torch.Size([])"
      ]
     },
     "execution_count": 10,
     "metadata": {},
     "output_type": "execute_result"
    }
   ],
   "source": [
    "a.shape"
   ]
  },
  {
   "cell_type": "code",
   "execution_count": 11,
   "id": "c43a466d",
   "metadata": {},
   "outputs": [
    {
     "data": {
      "text/plain": [
       "(0, 0)"
      ]
     },
     "execution_count": 11,
     "metadata": {},
     "output_type": "execute_result"
    }
   ],
   "source": [
    "len(a.shape),a.dim()"
   ]
  },
  {
   "cell_type": "code",
   "execution_count": 12,
   "id": "805c351f",
   "metadata": {},
   "outputs": [
    {
     "data": {
      "text/plain": [
       "torch.Size([])"
      ]
     },
     "execution_count": 12,
     "metadata": {},
     "output_type": "execute_result"
    }
   ],
   "source": [
    "a.size()\n",
    "\n",
    "# shape与size()的区别：\n",
    "# shape是作为一个成员；size()是作为一个成员函数。"
   ]
  },
  {
   "cell_type": "code",
   "execution_count": 13,
   "id": "8881fda8",
   "metadata": {},
   "outputs": [
    {
     "data": {
      "text/plain": [
       "tensor([1.1000])"
      ]
     },
     "execution_count": 13,
     "metadata": {},
     "output_type": "execute_result"
    }
   ],
   "source": [
    "# 创建dim=1的tensor,即标量（一般用于表示bias或batch_size=1的一张图片）\n",
    "torch.tensor([1.1])"
   ]
  },
  {
   "cell_type": "code",
   "execution_count": 14,
   "id": "d8340409",
   "metadata": {},
   "outputs": [
    {
     "data": {
      "text/plain": [
       "tensor([1.1000, 2.2000])"
      ]
     },
     "execution_count": 14,
     "metadata": {},
     "output_type": "execute_result"
    }
   ],
   "source": [
    "torch.tensor([1.1, 2.2])"
   ]
  },
  {
   "cell_type": "code",
   "execution_count": 15,
   "id": "89148058",
   "metadata": {},
   "outputs": [
    {
     "data": {
      "text/plain": [
       "tensor([-1.0842e-19])"
      ]
     },
     "execution_count": 15,
     "metadata": {},
     "output_type": "execute_result"
    }
   ],
   "source": [
    "torch.FloatTensor(1)  # 相当于randn()初始化"
   ]
  },
  {
   "cell_type": "code",
   "execution_count": 16,
   "id": "755aff9f",
   "metadata": {},
   "outputs": [
    {
     "data": {
      "text/plain": [
       "tensor([1.4372e-33, 4.5914e-41])"
      ]
     },
     "execution_count": 16,
     "metadata": {},
     "output_type": "execute_result"
    }
   ],
   "source": [
    "torch.FloatTensor(2)"
   ]
  },
  {
   "cell_type": "code",
   "execution_count": 17,
   "id": "137c475e",
   "metadata": {},
   "outputs": [],
   "source": [
    "data=np.ones(2)"
   ]
  },
  {
   "cell_type": "code",
   "execution_count": 18,
   "id": "67225674",
   "metadata": {},
   "outputs": [
    {
     "data": {
      "text/plain": [
       "array([1., 1.])"
      ]
     },
     "execution_count": 18,
     "metadata": {},
     "output_type": "execute_result"
    }
   ],
   "source": [
    "data"
   ]
  },
  {
   "cell_type": "code",
   "execution_count": 19,
   "id": "a8f3271a",
   "metadata": {},
   "outputs": [
    {
     "data": {
      "text/plain": [
       "tensor([1., 1.], dtype=torch.float64)"
      ]
     },
     "execution_count": 19,
     "metadata": {},
     "output_type": "execute_result"
    }
   ],
   "source": [
    "torch.from_numpy(data)"
   ]
  },
  {
   "cell_type": "code",
   "execution_count": 20,
   "id": "640c603f",
   "metadata": {},
   "outputs": [],
   "source": [
    "a=torch.ones(2)"
   ]
  },
  {
   "cell_type": "code",
   "execution_count": 21,
   "id": "bc0c0334",
   "metadata": {},
   "outputs": [
    {
     "data": {
      "text/plain": [
       "torch.Size([2])"
      ]
     },
     "execution_count": 21,
     "metadata": {},
     "output_type": "execute_result"
    }
   ],
   "source": [
    "a.shape"
   ]
  },
  {
   "cell_type": "code",
   "execution_count": 22,
   "id": "17603a8d",
   "metadata": {},
   "outputs": [],
   "source": [
    "# 创建dim=2的tensor，即向量\n",
    "#（一般用于带有batch的Linear输入）\n",
    "a=torch.randn(2,3)"
   ]
  },
  {
   "cell_type": "code",
   "execution_count": 23,
   "id": "3b01db21",
   "metadata": {},
   "outputs": [
    {
     "data": {
      "text/plain": [
       "tensor([[ 0.1696,  0.9777,  1.2449],\n",
       "        [-1.1541,  0.8504, -0.7611]])"
      ]
     },
     "execution_count": 23,
     "metadata": {},
     "output_type": "execute_result"
    }
   ],
   "source": [
    "a"
   ]
  },
  {
   "cell_type": "code",
   "execution_count": 24,
   "id": "27d6ac2e",
   "metadata": {},
   "outputs": [
    {
     "data": {
      "text/plain": [
       "torch.Size([2, 3])"
      ]
     },
     "execution_count": 24,
     "metadata": {},
     "output_type": "execute_result"
    }
   ],
   "source": [
    "a.shape"
   ]
  },
  {
   "cell_type": "code",
   "execution_count": 25,
   "id": "c9156706",
   "metadata": {},
   "outputs": [
    {
     "data": {
      "text/plain": [
       "torch.Size([2, 3])"
      ]
     },
     "execution_count": 25,
     "metadata": {},
     "output_type": "execute_result"
    }
   ],
   "source": [
    "a.size()"
   ]
  },
  {
   "cell_type": "code",
   "execution_count": 26,
   "id": "b5d6d581",
   "metadata": {},
   "outputs": [
    {
     "data": {
      "text/plain": [
       "(2, 3)"
      ]
     },
     "execution_count": 26,
     "metadata": {},
     "output_type": "execute_result"
    }
   ],
   "source": [
    "a.size(0),a.size(1)  # 分别取a的第0维和第1维的形状"
   ]
  },
  {
   "cell_type": "code",
   "execution_count": 27,
   "id": "d4c07567",
   "metadata": {},
   "outputs": [
    {
     "data": {
      "text/plain": [
       "(2, 3)"
      ]
     },
     "execution_count": 27,
     "metadata": {},
     "output_type": "execute_result"
    }
   ],
   "source": [
    "a.shape[0],a.shape[1]  # 同上"
   ]
  },
  {
   "cell_type": "code",
   "execution_count": 28,
   "id": "17141748",
   "metadata": {},
   "outputs": [],
   "source": [
    "# dim=3的tensor（一般用于文字处理RNN）\n",
    "# rand() 生成均匀分布的伪随机数。分布在（0~1）之间\n",
    "a=torch.rand(1,2,3)"
   ]
  },
  {
   "cell_type": "code",
   "execution_count": 29,
   "id": "b2c82365",
   "metadata": {},
   "outputs": [
    {
     "data": {
      "text/plain": [
       "tensor([[[0.4891, 0.2711, 0.9136],\n",
       "         [0.9264, 0.2842, 0.7692]]])"
      ]
     },
     "execution_count": 29,
     "metadata": {},
     "output_type": "execute_result"
    }
   ],
   "source": [
    "a"
   ]
  },
  {
   "cell_type": "code",
   "execution_count": 30,
   "id": "9a8f37e9",
   "metadata": {},
   "outputs": [
    {
     "data": {
      "text/plain": [
       "torch.Size([1, 2, 3])"
      ]
     },
     "execution_count": 30,
     "metadata": {},
     "output_type": "execute_result"
    }
   ],
   "source": [
    "a.shape"
   ]
  },
  {
   "cell_type": "code",
   "execution_count": 31,
   "id": "d6277870",
   "metadata": {},
   "outputs": [
    {
     "data": {
      "text/plain": [
       "tensor([[0.4891, 0.2711, 0.9136],\n",
       "        [0.9264, 0.2842, 0.7692]])"
      ]
     },
     "execution_count": 31,
     "metadata": {},
     "output_type": "execute_result"
    }
   ],
   "source": [
    "a[0]  # 取a的第0维"
   ]
  },
  {
   "cell_type": "code",
   "execution_count": 32,
   "id": "b88825bf",
   "metadata": {},
   "outputs": [
    {
     "data": {
      "text/plain": [
       "[1, 2, 3]"
      ]
     },
     "execution_count": 32,
     "metadata": {},
     "output_type": "execute_result"
    }
   ],
   "source": [
    "list(a.shape)  # 转化为list类型"
   ]
  },
  {
   "cell_type": "code",
   "execution_count": 33,
   "id": "bbe034b8",
   "metadata": {},
   "outputs": [],
   "source": [
    "# dim=4的tensor（一般用于一组图片的输入[batch_size,color,h,w）\n",
    "a=torch.rand(2,3,28,28)"
   ]
  },
  {
   "cell_type": "code",
   "execution_count": 34,
   "id": "b6038035",
   "metadata": {},
   "outputs": [
    {
     "data": {
      "text/plain": [
       "tensor([[[[0.1700, 0.8824, 0.9286,  ..., 0.2337, 0.4681, 0.7022],\n",
       "          [0.5295, 0.3699, 0.5390,  ..., 0.2420, 0.9210, 0.7975],\n",
       "          [0.6690, 0.2382, 0.6836,  ..., 0.2081, 0.6303, 0.4481],\n",
       "          ...,\n",
       "          [0.1402, 0.7553, 0.4565,  ..., 0.2059, 0.3989, 0.7161],\n",
       "          [0.3058, 0.3217, 0.1779,  ..., 0.0062, 0.2528, 0.6921],\n",
       "          [0.2950, 0.6845, 0.3909,  ..., 0.4200, 0.7325, 0.5610]],\n",
       "\n",
       "         [[0.5331, 0.7246, 0.7206,  ..., 0.8349, 0.7148, 0.7713],\n",
       "          [0.4471, 0.3777, 0.7259,  ..., 0.7479, 0.0523, 0.0267],\n",
       "          [0.6801, 0.0806, 0.9773,  ..., 0.2840, 0.0533, 0.2858],\n",
       "          ...,\n",
       "          [0.3337, 0.9049, 0.9123,  ..., 0.0688, 0.6822, 0.8078],\n",
       "          [0.5981, 0.8082, 0.8856,  ..., 0.2629, 0.1498, 0.4635],\n",
       "          [0.2845, 0.6430, 0.7104,  ..., 0.3322, 0.8835, 0.1822]],\n",
       "\n",
       "         [[0.9538, 0.6015, 0.6900,  ..., 0.3523, 0.8922, 0.4320],\n",
       "          [0.3726, 0.5788, 0.5092,  ..., 0.9924, 0.2337, 0.3706],\n",
       "          [0.8967, 0.8497, 0.5046,  ..., 0.4617, 0.5107, 0.6544],\n",
       "          ...,\n",
       "          [0.2983, 0.1605, 0.3441,  ..., 0.4779, 0.6449, 0.9307],\n",
       "          [0.8119, 0.5928, 0.7937,  ..., 0.0017, 0.7926, 0.2705],\n",
       "          [0.0448, 0.8073, 0.5678,  ..., 0.1795, 0.2135, 0.0918]]],\n",
       "\n",
       "\n",
       "        [[[0.6537, 0.9809, 0.0237,  ..., 0.7349, 0.1391, 0.5563],\n",
       "          [0.7544, 0.4405, 0.3241,  ..., 0.1436, 0.8278, 0.4405],\n",
       "          [0.0799, 0.8228, 0.8949,  ..., 0.1646, 0.6856, 0.1673],\n",
       "          ...,\n",
       "          [0.9632, 0.1269, 0.1848,  ..., 0.5833, 0.9057, 0.8590],\n",
       "          [0.2585, 0.7278, 0.2822,  ..., 0.5579, 0.6848, 0.6645],\n",
       "          [0.6401, 0.1754, 0.8007,  ..., 0.0252, 0.2517, 0.5380]],\n",
       "\n",
       "         [[0.5378, 0.1804, 0.9251,  ..., 0.7076, 0.5631, 0.5271],\n",
       "          [0.6484, 0.8495, 0.7517,  ..., 0.3005, 0.5459, 0.8196],\n",
       "          [0.7250, 0.9628, 0.1357,  ..., 0.8376, 0.1456, 0.6762],\n",
       "          ...,\n",
       "          [0.1643, 0.6600, 0.9884,  ..., 0.8776, 0.9479, 0.5710],\n",
       "          [0.9080, 0.9148, 0.4561,  ..., 0.7656, 0.2166, 0.7653],\n",
       "          [0.5197, 0.1977, 0.9867,  ..., 0.6655, 0.5393, 0.4552]],\n",
       "\n",
       "         [[0.4643, 0.8862, 0.7728,  ..., 0.9234, 0.0117, 0.7287],\n",
       "          [0.6406, 0.6906, 0.4310,  ..., 0.9385, 0.3195, 0.9264],\n",
       "          [0.8594, 0.3645, 0.1494,  ..., 0.0245, 0.2468, 0.1431],\n",
       "          ...,\n",
       "          [0.4717, 0.4266, 0.3638,  ..., 0.0424, 0.7494, 0.6710],\n",
       "          [0.5588, 0.5718, 0.4579,  ..., 0.6202, 0.4687, 0.3498],\n",
       "          [0.4264, 0.9589, 0.1911,  ..., 0.4607, 0.4510, 0.8563]]]])"
      ]
     },
     "execution_count": 34,
     "metadata": {},
     "output_type": "execute_result"
    }
   ],
   "source": [
    "a"
   ]
  },
  {
   "cell_type": "code",
   "execution_count": 35,
   "id": "085b21de",
   "metadata": {},
   "outputs": [
    {
     "data": {
      "text/plain": [
       "torch.Size([2, 3, 28, 28])"
      ]
     },
     "execution_count": 35,
     "metadata": {},
     "output_type": "execute_result"
    }
   ],
   "source": [
    "a.shape"
   ]
  },
  {
   "cell_type": "code",
   "execution_count": 36,
   "id": "10f066b4",
   "metadata": {},
   "outputs": [
    {
     "data": {
      "text/plain": [
       "torch.Size([2, 3, 28, 28])"
      ]
     },
     "execution_count": 36,
     "metadata": {},
     "output_type": "execute_result"
    }
   ],
   "source": [
    "torch.Size([2,3,28,28])"
   ]
  },
  {
   "cell_type": "code",
   "execution_count": 37,
   "id": "2c8646d2",
   "metadata": {},
   "outputs": [
    {
     "data": {
      "text/plain": [
       "torch.Size([2, 3, 28, 28])"
      ]
     },
     "execution_count": 37,
     "metadata": {},
     "output_type": "execute_result"
    }
   ],
   "source": [
    "a.shape"
   ]
  },
  {
   "cell_type": "code",
   "execution_count": 38,
   "id": "cf8122f5",
   "metadata": {},
   "outputs": [
    {
     "data": {
      "text/plain": [
       "4704"
      ]
     },
     "execution_count": 38,
     "metadata": {},
     "output_type": "execute_result"
    }
   ],
   "source": [
    "a.numel()  # 返回tensor所占内存的数量（number_of_element）"
   ]
  },
  {
   "cell_type": "code",
   "execution_count": 39,
   "id": "7aabde8c",
   "metadata": {},
   "outputs": [
    {
     "data": {
      "text/plain": [
       "4"
      ]
     },
     "execution_count": 39,
     "metadata": {},
     "output_type": "execute_result"
    }
   ],
   "source": [
    "a.dim()"
   ]
  },
  {
   "cell_type": "code",
   "execution_count": 40,
   "id": "eb699db0",
   "metadata": {},
   "outputs": [],
   "source": [
    "a=torch.tensor(1)"
   ]
  },
  {
   "cell_type": "code",
   "execution_count": 41,
   "id": "be8a3419",
   "metadata": {},
   "outputs": [
    {
     "data": {
      "text/plain": [
       "0"
      ]
     },
     "execution_count": 41,
     "metadata": {},
     "output_type": "execute_result"
    }
   ],
   "source": [
    "a.dim()"
   ]
  }
 ],
 "metadata": {
  "kernelspec": {
   "display_name": "Python 3 (ipykernel)",
   "language": "python",
   "name": "python3"
  },
  "language_info": {
   "codemirror_mode": {
    "name": "ipython",
    "version": 3
   },
   "file_extension": ".py",
   "mimetype": "text/x-python",
   "name": "python",
   "nbconvert_exporter": "python",
   "pygments_lexer": "ipython3",
   "version": "3.9.13"
  }
 },
 "nbformat": 4,
 "nbformat_minor": 5
}
