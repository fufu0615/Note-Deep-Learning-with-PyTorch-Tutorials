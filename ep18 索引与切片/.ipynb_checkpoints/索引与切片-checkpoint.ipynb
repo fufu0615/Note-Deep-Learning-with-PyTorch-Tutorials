{
 "cells": [
  {
   "cell_type": "code",
   "execution_count": 1,
   "id": "177b99ee",
   "metadata": {},
   "outputs": [],
   "source": [
    "import numpy as np\n",
    "import torch"
   ]
  },
  {
   "cell_type": "code",
   "execution_count": 2,
   "id": "531584f9",
   "metadata": {},
   "outputs": [
    {
     "data": {
      "text/plain": [
       "(torch.Size([3, 28, 28]), torch.Size([28, 28]), tensor(0.1591))"
      ]
     },
     "execution_count": 2,
     "metadata": {},
     "output_type": "execute_result"
    }
   ],
   "source": [
    "a=torch.rand(4,3,28,28)\n",
    "a[0].shape,a[0,0].shape,a[0,0,2,4]"
   ]
  },
  {
   "cell_type": "code",
   "execution_count": 3,
   "id": "60df4300",
   "metadata": {},
   "outputs": [
    {
     "data": {
      "text/plain": [
       "torch.Size([4, 3, 28, 28])"
      ]
     },
     "execution_count": 3,
     "metadata": {},
     "output_type": "execute_result"
    }
   ],
   "source": [
    "a.shape"
   ]
  },
  {
   "cell_type": "code",
   "execution_count": 4,
   "id": "48cbe792",
   "metadata": {},
   "outputs": [
    {
     "data": {
      "text/plain": [
       "torch.Size([2, 3, 28, 28])"
      ]
     },
     "execution_count": 4,
     "metadata": {},
     "output_type": "execute_result"
    }
   ],
   "source": [
    "# 1.连续选取\n",
    "\n",
    "a[:2].shape  # 选取第0维上第[0(开头),2)个元素"
   ]
  },
  {
   "cell_type": "code",
   "execution_count": 5,
   "id": "adf8375e",
   "metadata": {},
   "outputs": [
    {
     "data": {
      "text/plain": [
       "torch.Size([2, 1, 28, 28])"
      ]
     },
     "execution_count": 5,
     "metadata": {},
     "output_type": "execute_result"
    }
   ],
   "source": [
    "a[:2,:1,:,:].shape  # 选取第0维上第[0(开头),2)个,第1维上第[0,1)个元素"
   ]
  },
  {
   "cell_type": "code",
   "execution_count": 6,
   "id": "6890aed3",
   "metadata": {},
   "outputs": [
    {
     "data": {
      "text/plain": [
       "torch.Size([2, 2, 28, 28])"
      ]
     },
     "execution_count": 6,
     "metadata": {},
     "output_type": "execute_result"
    }
   ],
   "source": [
    "a[:2,1:,:,:].shape  # 选取第0维上第[0(开头),2)个,第1维上第[1,4(末尾))个,第2第3维全部元素"
   ]
  },
  {
   "cell_type": "code",
   "execution_count": 7,
   "id": "6a6f4a0f",
   "metadata": {},
   "outputs": [
    {
     "data": {
      "text/plain": [
       "torch.Size([2, 1, 28, 28])"
      ]
     },
     "execution_count": 7,
     "metadata": {},
     "output_type": "execute_result"
    }
   ],
   "source": [
    "a[:2,-1:,:,:].shape  # 选取第0维上第[0(开头),2)个,第1维上第[-1(倒数第1个),4(末尾))个,第2第3维全部元素"
   ]
  },
  {
   "cell_type": "code",
   "execution_count": 8,
   "id": "77228e32",
   "metadata": {},
   "outputs": [
    {
     "data": {
      "text/plain": [
       "torch.Size([4, 3, 14, 14])"
      ]
     },
     "execution_count": 8,
     "metadata": {},
     "output_type": "execute_result"
    }
   ],
   "source": [
    "a[:,:,0:28:2,0:28:2].shape  # 选取第0第1维全部元素,第2维上步长为2地取第[0,28)个元素,第3维上步长为2地取第[0,28)个元素"
   ]
  },
  {
   "cell_type": "code",
   "execution_count": 9,
   "id": "096f3b50",
   "metadata": {},
   "outputs": [
    {
     "data": {
      "text/plain": [
       "torch.Size([4, 3, 14, 14])"
      ]
     },
     "execution_count": 9,
     "metadata": {},
     "output_type": "execute_result"
    }
   ],
   "source": [
    "a[:,:,::2,::2].shape  # 选取第0第1维全部元素,第2第3维上步长为2地取全部元素"
   ]
  },
  {
   "cell_type": "code",
   "execution_count": 10,
   "id": "e99dfc83",
   "metadata": {},
   "outputs": [
    {
     "data": {
      "text/plain": [
       "torch.Size([4, 3, 28, 28])"
      ]
     },
     "execution_count": 10,
     "metadata": {},
     "output_type": "execute_result"
    }
   ],
   "source": [
    "a.shape"
   ]
  },
  {
   "cell_type": "code",
   "execution_count": 11,
   "id": "13001aaf",
   "metadata": {},
   "outputs": [
    {
     "data": {
      "text/plain": [
       "torch.Size([2, 3, 28, 28])"
      ]
     },
     "execution_count": 11,
     "metadata": {},
     "output_type": "execute_result"
    }
   ],
   "source": [
    "# 2.维度选取:.index_select()\n",
    "\n",
    "a.index_select(0, torch.tensor([0,2])).shape  # 选取第0维上的第0第2个元素"
   ]
  },
  {
   "cell_type": "code",
   "execution_count": 12,
   "id": "bdbd45e1",
   "metadata": {},
   "outputs": [
    {
     "data": {
      "text/plain": [
       "torch.Size([4, 2, 28, 28])"
      ]
     },
     "execution_count": 12,
     "metadata": {},
     "output_type": "execute_result"
    }
   ],
   "source": [
    "a.index_select(1, torch.tensor([0,2])).shape"
   ]
  },
  {
   "cell_type": "code",
   "execution_count": 13,
   "id": "38eeeaf0",
   "metadata": {},
   "outputs": [
    {
     "data": {
      "text/plain": [
       "torch.Size([4, 3, 28, 28])"
      ]
     },
     "execution_count": 13,
     "metadata": {},
     "output_type": "execute_result"
    }
   ],
   "source": [
    "a.index_select(2, torch.arange(28)).shape  # 选取第2维上的第[0,28)个元素"
   ]
  },
  {
   "cell_type": "code",
   "execution_count": 14,
   "id": "3556f960",
   "metadata": {},
   "outputs": [
    {
     "data": {
      "text/plain": [
       "torch.Size([4, 3, 8, 28])"
      ]
     },
     "execution_count": 14,
     "metadata": {},
     "output_type": "execute_result"
    }
   ],
   "source": [
    "a.index_select(2, torch.arange(8)).shape"
   ]
  },
  {
   "cell_type": "code",
   "execution_count": 15,
   "id": "0b752719",
   "metadata": {},
   "outputs": [
    {
     "data": {
      "text/plain": [
       "torch.Size([4, 3, 28, 28])"
      ]
     },
     "execution_count": 15,
     "metadata": {},
     "output_type": "execute_result"
    }
   ],
   "source": [
    "a.shape"
   ]
  },
  {
   "cell_type": "code",
   "execution_count": 16,
   "id": "1c4623dc",
   "metadata": {},
   "outputs": [
    {
     "data": {
      "text/plain": [
       "torch.Size([4, 3, 28, 28])"
      ]
     },
     "execution_count": 16,
     "metadata": {},
     "output_type": "execute_result"
    }
   ],
   "source": [
    "# 3.全部选取:...\n",
    "\n",
    "a[...].shape  # 取全部元素"
   ]
  },
  {
   "cell_type": "code",
   "execution_count": 17,
   "id": "95e87baa",
   "metadata": {},
   "outputs": [
    {
     "data": {
      "text/plain": [
       "torch.Size([3, 28, 28])"
      ]
     },
     "execution_count": 17,
     "metadata": {},
     "output_type": "execute_result"
    }
   ],
   "source": [
    "a[0,...].shape  # 取第0维上的第1个元素"
   ]
  },
  {
   "cell_type": "code",
   "execution_count": 18,
   "id": "67158306",
   "metadata": {},
   "outputs": [
    {
     "data": {
      "text/plain": [
       "torch.Size([4, 28, 28])"
      ]
     },
     "execution_count": 18,
     "metadata": {},
     "output_type": "execute_result"
    }
   ],
   "source": [
    "a[:,1,...].shape"
   ]
  },
  {
   "cell_type": "code",
   "execution_count": 19,
   "id": "e09aa941",
   "metadata": {},
   "outputs": [
    {
     "data": {
      "text/plain": [
       "torch.Size([4, 3, 28, 2])"
      ]
     },
     "execution_count": 19,
     "metadata": {},
     "output_type": "execute_result"
    }
   ],
   "source": [
    "a[...,:2].shape"
   ]
  },
  {
   "cell_type": "code",
   "execution_count": 20,
   "id": "8762ce71",
   "metadata": {},
   "outputs": [
    {
     "data": {
      "text/plain": [
       "tensor([[-0.4783,  0.5642, -1.2406,  1.6677],\n",
       "        [ 1.0866,  1.1457,  0.6399, -0.3683],\n",
       "        [-1.0570, -0.8665,  1.7044,  0.7345]])"
      ]
     },
     "execution_count": 20,
     "metadata": {},
     "output_type": "execute_result"
    }
   ],
   "source": [
    "x = torch.randn(3,4)\n",
    "x"
   ]
  },
  {
   "cell_type": "code",
   "execution_count": 21,
   "id": "741b71f0",
   "metadata": {},
   "outputs": [
    {
     "data": {
      "text/plain": [
       "tensor([[False,  True, False,  True],\n",
       "        [ True,  True,  True, False],\n",
       "        [False, False,  True,  True]])"
      ]
     },
     "execution_count": 21,
     "metadata": {},
     "output_type": "execute_result"
    }
   ],
   "source": [
    "# 4.使用mask掩码索引\n",
    "torch.ge\n",
    "mask = x.ge(0.5)  # 返回一个tensor其中元素为x与0.5大小比较的结果\n",
    "mask"
   ]
  },
  {
   "cell_type": "code",
   "execution_count": 22,
   "id": "8e529533",
   "metadata": {},
   "outputs": [
    {
     "data": {
      "text/plain": [
       "'根据掩码（mask）对输入的张量进行选择，返回一个新的张量。\\n它可以根据提供的掩码参数，选择出输入张量中被掩码为True的元素，\\n并将其转换为一个一维的张量，其中每个元素在原始输入中的下标也会被记录。'"
      ]
     },
     "execution_count": 22,
     "metadata": {},
     "output_type": "execute_result"
    }
   ],
   "source": [
    "torch.masked_select(x, mask)  \n",
    "'''根据掩码（mask）对输入的张量进行选择，返回一个新的张量。\n",
    "它可以根据提供的掩码参数，选择出输入张量中被掩码为True的元素，\n",
    "并将其转换为一个一维的张量，其中每个元素在原始输入中的下标也会被记录。'''"
   ]
  },
  {
   "cell_type": "code",
   "execution_count": 23,
   "id": "7b2f50a1",
   "metadata": {},
   "outputs": [
    {
     "data": {
      "text/plain": [
       "torch.Size([7])"
      ]
     },
     "execution_count": 23,
     "metadata": {},
     "output_type": "execute_result"
    }
   ],
   "source": [
    "torch.masked_select(x, mask).shape"
   ]
  },
  {
   "cell_type": "code",
   "execution_count": 24,
   "id": "b3438365",
   "metadata": {},
   "outputs": [
    {
     "data": {
      "text/plain": [
       "tensor([4, 5, 8])"
      ]
     },
     "execution_count": 24,
     "metadata": {},
     "output_type": "execute_result"
    }
   ],
   "source": [
    "src = torch.tensor([[4,3,5],[6,7,8]])\n",
    "# 5.使用take()索引\n",
    "torch.take(src, torch.tensor([0, 2, 5]))  # 先将src打平再选取第0,2,5个元素"
   ]
  }
 ],
 "metadata": {
  "kernelspec": {
   "display_name": "Python 3 (ipykernel)",
   "language": "python",
   "name": "python3"
  },
  "language_info": {
   "codemirror_mode": {
    "name": "ipython",
    "version": 3
   },
   "file_extension": ".py",
   "mimetype": "text/x-python",
   "name": "python",
   "nbconvert_exporter": "python",
   "pygments_lexer": "ipython3",
   "version": "3.9.13"
  }
 },
 "nbformat": 4,
 "nbformat_minor": 5
}
